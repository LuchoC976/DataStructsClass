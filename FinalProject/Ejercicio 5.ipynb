{
 "cells": [
  {
   "cell_type": "markdown",
   "id": "f6c995fb",
   "metadata": {},
   "source": [
    "# 5. A Fibonacci tree is a binary tree created using the order function :\n",
    " is the empty tree.\n",
    " is a binary tree with only one node.\n",
    " is a binary tree that consists of a root node with the left subtree as  and the right subtree as .\n",
    "Alice and Bob are playing a game with a Fibonacci tree with Alice staring first. On each turn, a player selects a node and removes that node and its subtree. The player that is forced to delete root loses.\n",
    "\n",
    "Given the integer , return  if Alice wins the game or  if Bob wins, assuming both players play optimally.\n",
    "\n",
    "A subtree of a binary tree  is a tree that consists of a node in  and all of this node's descendants. The tree  could also be considered as a subtree of itself."
   ]
  },
  {
   "cell_type": "code",
   "execution_count": 34,
   "id": "4341721d",
   "metadata": {},
   "outputs": [
    {
     "name": "stdout",
     "output_type": "stream",
     "text": [
      "Bob,False\n",
      "Alice,True\n",
      "Alice,True\n",
      "Alice,True\n",
      "Bob,False\n",
      "Todos los casos son verdaderos\n"
     ]
    }
   ],
   "source": [
    "import math\n",
    "import unittest\n",
    "# Bien implementado\n",
    "class FibonacciTree:\n",
    "    def __init__(self, value):\n",
    "        self.value = value\n",
    "        self.child = []\n",
    "        self.order = 0\n",
    "\n",
    "    def add_at_end(self, t):\n",
    "        self.child.append(t)\n",
    "        self.order = self.order + 1\n",
    "\n",
    "class FibonacciHeap:\n",
    "    def __init__(self):\n",
    "        self.trees = []\n",
    "        self.least = None\n",
    "        self.count = 0\n",
    "        \n",
    "    def insert_node(self, value):\n",
    "        new_tree = FibonacciTree(value)\n",
    "        self.trees.append(new_tree)\n",
    "        if (self.least is None or value < self.least.value):\n",
    "            self.least = new_tree\n",
    "        self.count = self.count + 1\n",
    "\n",
    "    def get_min(self):\n",
    "        if self.least is None:\n",
    "            return None\n",
    "        return self.least.value\n",
    "    \n",
    "    def extract_min(self):\n",
    "        smallest = self.least\n",
    "        if smallest is not None:\n",
    "            for child in smallest.child:\n",
    "                self.trees.append(child)\n",
    "            self.trees.remove(smallest)\n",
    "            if self.trees == []:\n",
    "                self.least = None\n",
    "            else:\n",
    "                self.least = self.trees[0]\n",
    "                self.consolidate()\n",
    "            self.count = self.count - 1\n",
    "            return smallest.value\n",
    "\n",
    "    def consolidate(self):\n",
    "        aux = (floor_log(self.count) + 1) * [None]\n",
    "\n",
    "        while self.trees != []:\n",
    "            x = self.trees[0]\n",
    "            order = x.order\n",
    "            self.trees.remove(x)\n",
    "            while aux[order] is not None:\n",
    "                y = aux[order]\n",
    "                if x.value > y.value:\n",
    "                    x, y = y, x\n",
    "                x.add_at_end(y)\n",
    "                aux[order] = None\n",
    "                order = order + 1\n",
    "            aux[order] = x\n",
    "\n",
    "        self.least = None\n",
    "        for k in aux:\n",
    "            if k is not None:\n",
    "                self.trees.append(k)\n",
    "                if (self.least is None\n",
    "                        or k.value < self.least.value):\n",
    "                    self.least = k\n",
    "def floor_log(x):\n",
    "    return math.frexp(x)[1] - 1\n",
    "\n",
    "def Elganador(n):\n",
    "    if (n%2==0):\n",
    "        print(\"Bob,False\")\n",
    "        return False\n",
    "    else:\n",
    "        print(\"Alice,True\")\n",
    "        return True\n",
    "def TestValue_results():\n",
    "    assert Elganador(4)==False,\"Should be False\"\n",
    "    assert Elganador(3)==True,\"Should be True\"\n",
    "    assert Elganador(5)==True,\"Should be True\"\n",
    "    assert Elganador(7)==True,\"Should be True\"\n",
    "    assert Elganador(10)==False,\"Should be False\"\n",
    "    \n",
    "if __name__ == \"__main__\":\n",
    "    TestValue_results()\n",
    "    print(\"Todos los casos son verdaderos\")"
   ]
  },
  {
   "cell_type": "markdown",
   "id": "daaa8c65",
   "metadata": {},
   "source": [
    "# Explicacion \n",
    "Como podemos observar en nurto codigo realizamos un arbol de fibonacci el cual nos ayudara a entender las maneras en las cuales nostros podemos observar si nuestra participante gana o pierde como tenemos entendido en nuestro problema o la base de nuewstro porblema se basa en que si el numero de jugadfores es igual a un par entonces Alice pierde ya quer como podemos iobservar en el programa si el numero de nodos es igual a un numero impar Sale true y Alice ganaria tambien podemos observarla de una diferntes manera al problema y obtener con la ayuda del principio de colon el cual nos ayuda a ver de una manera mas formal manera en la cual nostros podemos implementar nuestro problema "
   ]
  },
  {
   "cell_type": "code",
   "execution_count": null,
   "id": "5efd7d66",
   "metadata": {},
   "outputs": [],
   "source": []
  }
 ],
 "metadata": {
  "kernelspec": {
   "display_name": "Python 3",
   "language": "python",
   "name": "python3"
  },
  "language_info": {
   "codemirror_mode": {
    "name": "ipython",
    "version": 3
   },
   "file_extension": ".py",
   "mimetype": "text/x-python",
   "name": "python",
   "nbconvert_exporter": "python",
   "pygments_lexer": "ipython3",
   "version": "3.8.8"
  }
 },
 "nbformat": 4,
 "nbformat_minor": 5
}
