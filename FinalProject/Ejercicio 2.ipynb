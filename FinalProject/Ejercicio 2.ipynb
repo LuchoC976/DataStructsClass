{
 "cells": [
  {
   "cell_type": "markdown",
   "id": "8041df32",
   "metadata": {},
   "source": [
    "# 2. Implement the RandomizedSet class:\n",
    "RandomizedSet() Initializes the RandomizedSet object.\n",
    "\n",
    "bool insert(int val) Inserts an item val into the set if not present. Returns true if the item was not present, false otherwise.\n",
    "\n",
    "bool remove(int val) Removes an item val from the set if present. Returns true if the item was present, false otherwise.\n",
    "\n",
    "int getRandom() Returns a random element from the current set of elements (it's guaranteed that at least one element exists when this method is called). Each element must have the same probability of being returned. "
   ]
  },
  {
   "cell_type": "code",
   "execution_count": 16,
   "id": "aa177bcb",
   "metadata": {},
   "outputs": [
    {
     "name": "stdout",
     "output_type": "stream",
     "text": [
      "Todos los casos son verdaderos\n"
     ]
    }
   ],
   "source": [    
    "import random\n",
    "\n",
    "\n",
    "class RandomizedSet:\n",
    "    def __init__(self):\n",
    "        self.data = set()\n",
    "\n",
    "    def insert(self, val: int) -> bool:\n",
    "       #Insertamos un valor al set retornamos True si el set no contiene el valor especifico\n",
    "        if val not in self.data:\n",
    "            self.data.add(val)\n",
    "            return True\n",
    "        else:\n",
    "            return False\n",
    "\n",
    "    def remove(self, val: int) -> bool:\n",
    "        #removemos un valor al set retornamos True si el set no contiene el valor especifico\n",
    "        if val in self.data:\n",
    "            self.data.remove(val)\n",
    "            return True\n",
    "        else:\n",
    "            return False\n",
    "\n",
    "    def getRandom(self) -> int:\n",
    "        #obtenemos un valor random del set\n",
    "        #rand_index = random.randint(0,len(self.data)-1)\n",
    "        #return self.data[rand_index]\n",
    "        return random.choice(list(self.data))\n",
    "    \n",
    "    def TestValue_results():\n",
    "        randomizedSet = RandomizedSet()\n",
    "        assert randomizedSet.insert(1)==True,\"Should be True\"\n",
    "        assert randomizedSet.insert(1)==False,\"Should be False\"\n",
    "        assert randomizedSet.insert(2)==True,\"Should be True\"\n",
    "        assert randomizedSet.getRandom()==2,\"Should be 2\"\n",
    "        assert randomizedSet.remove(1)==True,\"Should be True\"\n",
    "        assert randomizedSet.insert(2)==False,\"Should be False\"\n",
    "        assert randomizedSet.getRandom()==2,\"Should be 2\"\n",
    "    \n",
    "    if __name__ == \"__main__\":\n",
    "        TestValue_results()\n",
    "        print(\"Todos los casos son verdaderos\")\n"
   ]
  },
  {
   "cell_type": "markdown",
   "id": "455522fd",
   "metadata": {},
   "source": [
    "# Explicacion\n",
    "Como podemos observar en nuestro problema nos pide realizar una clase que sea random la cual nso ayude a insertar objetos, sacar objetos y romeover los objetos de nuestra clase cada uno de las siguintes operaciones o tiempos de compílacion como podemos observar enctonces nos debemos apoyar de esto tiene que ser o(1) lo cual podemos observar que gracias a nuestros algoritmo se cumple ademas de esto es necesario observar la forma por la cual nosotros podemos realizar una funcion random por nuestros propios medios "
   ]
  },
  {
   "cell_type": "code",
   "execution_count": null,
   "id": "2003350c",
   "metadata": {},
   "outputs": [],
   "source": []
  }
 ],
 "metadata": {
  "kernelspec": {
   "display_name": "Python 3",
   "language": "python",
   "name": "python3"
  },
  "language_info": {
   "codemirror_mode": {
    "name": "ipython",
    "version": 3
   },
   "file_extension": ".py",
   "mimetype": "text/x-python",
   "name": "python",
   "nbconvert_exporter": "python",
   "pygments_lexer": "ipython3",
   "version": "3.8.8"
  }
 },
 "nbformat": 4,
 "nbformat_minor": 5
}
