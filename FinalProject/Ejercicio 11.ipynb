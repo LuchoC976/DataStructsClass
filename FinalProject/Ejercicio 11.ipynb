{
 "cells": [
  {
   "cell_type": "markdown",
   "id": "a1f39f62",
   "metadata": {},
   "source": [
    "# 11. Given an integer , return all the strobogrammatic numbers that are of length n. You may return the answer in any order.\n",
    "A strobogrammatic number is a number that looks the same when rotated 180 degrees (looked at upside down)."
   ]
  },
  {
   "cell_type": "code",
   "execution_count": 3,
   "id": "244470ae",
   "metadata": {},
   "outputs": [
    {
     "name": "stdout",
     "output_type": "stream",
     "text": [
      "['818', '111', '916', '619', '808', '101', '906', '609', '888', '181', '986', '689']\n",
      "['8008', '1001', '9006', '6009', '8888', '1881', '9886', '6889', '8118', '1111', '9116', '6119', '8968', '1961', '9966', '6969', '8698', '1691', '9696', '6699']\n",
      "['80108', '10101', '90106', '60109', '88188', '18181', '98186', '68189', '81118', '11111', '91116', '61119', '89168', '19161', '99166', '69169', '86198', '16191', '96196', '66199', '80008', '10001', '90006', '60009', '88088', '18081', '98086', '68089', '81018', '11011', '91016', '61019', '89068', '19061', '99066', '69069', '86098', '16091', '96096', '66099', '80808', '10801', '90806', '60809', '88888', '18881', '98886', '68889', '81818', '11811', '91816', '61819', '89868', '19861', '99866', '69869', '86898', '16891', '96896', '66899']\n",
      "Todos los casos son verdaderos\n"
     ]
    }
   ],
   "source": [
    "def strobogrammatic_num(n):\n",
    "      \n",
    "    result = numdef(n, n)\n",
    "    return result\n",
    "      \n",
    "\n",
    "def numdef(n, length):\n",
    "      \n",
    "    if n == 0: return [\"\"]\n",
    "    if n == 1: return [\"1\", \"0\", \"8\"]\n",
    "      \n",
    "    middles = numdef(n - 2, length)\n",
    "    result = []\n",
    "      \n",
    "    for middle in middles:\n",
    "        if n != length:            \n",
    "            result.append(\"0\" + middle + \"0\")\n",
    "  \n",
    "        result.append(\"8\" + middle + \"8\")\n",
    "        result.append(\"1\" + middle + \"1\")\n",
    "        result.append(\"9\" + middle + \"6\")\n",
    "        result.append(\"6\" + middle + \"9\")\n",
    "    return result\n",
    "    # Pudiste haber retornado la lista final con un metodo sort(), para que se vea mas claro\n",
    "\n",
    "def TestValue_results():\n",
    "    assert strobogrammatic_num(1)==['1','0','8'],\"Should be ['1','0','8']\"\n",
    "    assert strobogrammatic_num(2)==['88','11','96','69'],\"Should be ['88','11','96','69']\"\n",
    "    assert strobogrammatic_num(3)==['818','111','916','619','808','101','906','609','888','181','986','689'],\"Should be ['818','111','916','619','808','101','906','609','888','181','986','689']\"\n",
    "    assert strobogrammatic_num(4)==['8008', '1001', '9006', '6009', '8888', '1881', '9886', '6889', '8118', '1111', '9116', '6119', '8968', '1961', '9966', '6969', '8698', '1691', '9696', '6699'],\"Should be ['8008', '1001', '9006', '6009', '8888', '1881', '9886', '6889', '8118', '1111', '9116', '6119', '8968', '1961', '9966', '6969', '8698', '1691', '9696', '6699']\"\n",
    "    assert strobogrammatic_num(5)==['80108', '10101', '90106', '60109', '88188', '18181', '98186', '68189', '81118', '11111', '91116', '61119', '89168', '19161', '99166', '69169', '86198', '16191', '96196', '66199', '80008', '10001', '90006', '60009', '88088', '18081', '98086', '68089', '81018', '11011', '91016', '61019', '89068', '19061', '99066', '69069', '86098', '16091', '96096', '66099', '80808', '10801', '90806', '60809', '88888', '18881', '98886', '68889', '81818', '11811', '91816', '61819', '89868', '19861', '99866', '69869', '86898', '16891', '96896', '66899'],\"Should be ['80108', '10101', '90106', '60109', '88188', '18181', '98186', '68189', '81118', '11111', '91116', '61119', '89168', '19161', '99166', '69169', '86198', '16191', '96196', '66199', '80008', '10001', '90006', '60009', '88088', '18081', '98086', '68089', '81018', '11011', '91016', '61019', '89068', '19061', '99066', '69069', '86098', '16091', '96096', '66099', '80808', '10801', '90806', '60809', '88888', '18881', '98886', '68889', '81818', '11811', '91816', '61819', '89868', '19861', '99866', '69869', '86898', '16891', '96896', '66899']\"\n",
    "    \n",
    "if __name__ == '__main__':\n",
    "    TestValue_results()\n",
    "    print(strobogrammatic_num(3))\n",
    "    print(strobogrammatic_num(4))\n",
    "    print(strobogrammatic_num(5))\n",
    "    print(\"Todos los casos son verdaderos\")\n",
    "    "
   ]
  },
  {
   "cell_type": "markdown",
   "id": "37f2dfb6",
   "metadata": {},
   "source": [
    "# Explicacion \n",
    "Como podemos observar en nuestro problema debemos realizar un algoritmo que nos ayude a obtener el strobogrammatic es un numero cuyo número es simétrico rotacionalmente, de modo que aparece igual cuando se gira 180 grados. En otras palabras, el número se ve igual del lado derecho hacia arriba y hacia abajo. entonces como podemos observar en nuestro porgrma necestiamos un algormitmo que nos ayude a encontrar este tipo de numero tambien en si adqueriendo sus numeros primos de nustros numero como podemos observar si con el numero 3 son infinitas posibilidades talvez con numeros mas grandes como el 100 se tarde una eternidad en encontrar todos estos numeros "
   ]
  },
  {
   "cell_type": "code",
   "execution_count": null,
   "id": "eecd43e0",
   "metadata": {},
   "outputs": [],
   "source": []
  }
 ],
 "metadata": {
  "kernelspec": {
   "display_name": "Python 3",
   "language": "python",
   "name": "python3"
  },
  "language_info": {
   "codemirror_mode": {
    "name": "ipython",
    "version": 3
   },
   "file_extension": ".py",
   "mimetype": "text/x-python",
   "name": "python",
   "nbconvert_exporter": "python",
   "pygments_lexer": "ipython3",
   "version": "3.8.8"
  }
 },
 "nbformat": 4,
 "nbformat_minor": 5
}
