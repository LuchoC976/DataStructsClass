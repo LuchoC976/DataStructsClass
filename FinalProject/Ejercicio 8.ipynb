{
 "cells": [
  {
   "cell_type": "markdown",
   "id": "48aa5bf3",
   "metadata": {},
   "source": [
    "# 8. You are given a 2D integer array intervals, where intervals[i] = [lefti, righti] describes the ith interval starting at lefti and ending at righti (inclusive). The size of an interval is defined as the number of integers it contains, or more formally righti - lefti + 1.\n",
    "You are also given an integer array queries. The answer to the  query is the size of the smallest interval  such that lefti <= queries[j] <= righti. If no such interval exists, the answer is .\n",
    "\n",
    "Return an array containing the answers to the queries."
   ]
  },
  {
   "cell_type": "code",
   "execution_count": 24,
   "id": "9e14edf4",
   "metadata": {},
   "outputs": [
    {
     "name": "stdout",
     "output_type": "stream",
     "text": [
      "Todos los casos son verdaderos\n"
     ]
    }
   ],
   "source": [
    "import unittest\n",
    "def minInterval(self, A, queries):\n",
    "        A = sorted(A)[::-1]\n",
    "        h = []\n",
    "        res = {}\n",
    "        for q in sorted(queries):\n",
    "            while A and A[-1][0] <= q:\n",
    "                i, j = A.pop()\n",
    "                if j >= q:\n",
    "                    heapq.heappush(h, [j - i + 1, j])\n",
    "            while h and h[0][1] < q:\n",
    "                heapq.heappop(h)\n",
    "            res[q] = h[0][0] if h else -1\n",
    "        return [res[q] for q in queries]\n",
    "def TestValue_results():\n",
    "    minInterval(0,\"[[1,4],[2,4],[3,6],[4,4]]\",\"[2,3,4,5]\")==\"[3,3,1,4]\",(\"should be [3,3,1,4]\")\n",
    "    minInterval(0,\"[[2,3],[2,5],[1,8],[20,25]]\",\"[2,19,5,22]\")==\"[2,-1,4,6]\",(\"should be [2,-1,4,6]\")\n",
    "    minInterval(0,\"[[4,4],[3,4],[1,6],[6,4]]\",\"[2,3,4,5]\")==\"[8,3,11,4]\",(\"should be [8,3,11,4]\")\n",
    "    minInterval(0,\"[[2,3],[2,5],[1,7],[20,5]]\",\"[2,19,5,22]\")==\"[12,-1,4,16]\",(\"should be [12,-1,4,16]\")\n",
    "    \n",
    "if __name__ == \"__main__\":\n",
    "    TestValue_results()\n",
    "    print(\"Todos los casos son verdaderos\")\n",
    "   "
   ]
  },
  {
   "cell_type": "markdown",
   "id": "49036572",
   "metadata": {},
   "source": [
    "# Explicacion\n",
    "Iterar las consultas de pequeñas a grandes\n",
    "y encontramos todos los intervalos abiertos [l, r],\n",
    "y los añadimos a una cola de prioridad.Además, tenemos que eliminar todos los intervalos cerrados de la cola.En la prioridad, utilizamos[tamaño del intervalo, fin del intervalo] = [r-l+1, r] como clave.La cabeza de la cola es el intervalo más pequeño que queremos devolver para cada consulta."
   ]
  },
  {
   "cell_type": "code",
   "execution_count": null,
   "id": "f2654084",
   "metadata": {},
   "outputs": [],
   "source": []
  },
  {
   "cell_type": "code",
   "execution_count": null,
   "id": "ed0ec027",
   "metadata": {},
   "outputs": [],
   "source": []
  }
 ],
 "metadata": {
  "kernelspec": {
   "display_name": "Python 3",
   "language": "python",
   "name": "python3"
  },
  "language_info": {
   "codemirror_mode": {
    "name": "ipython",
    "version": 3
   },
   "file_extension": ".py",
   "mimetype": "text/x-python",
   "name": "python",
   "nbconvert_exporter": "python",
   "pygments_lexer": "ipython3",
   "version": "3.8.8"
  }
 },
 "nbformat": 4,
 "nbformat_minor": 5
}
